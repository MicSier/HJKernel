{
 "cells": [
  {
   "cell_type": "markdown",
   "id": "c5aa09d4-0a2a-4d7e-acf8-ca024728ab8e",
   "metadata": {},
   "source": [
    "# Fourier Series Visualization in Haskell\n",
    "\n",
    "We’ll approximate a square wave using its Fourier series expansion:\n",
    "\n",
    "$$\n",
    "f(x) = \\frac{4}{\\pi} \\sum_{k=0}^{n-1} \\frac{\\sin((2k+1)x)}{2k+1}\n",
    "$$\n",
    "\n",
    "You can change the number of terms `n` to see how the approximation improves.\n",
    "\n",
    "Dependencies: \n",
    "cabal update\n",
    "cabal install Chart Chart-diagrams colour\n"
   ]
  },
  {
   "cell_type": "code",
   "execution_count": null,
   "id": "0600d1b4-f757-4c36-819b-cd771e0c6481",
   "metadata": {},
   "outputs": [
    {
     "data": {
      "text/plain": [
       " [1 of 2] Compiling Main             ( C:\\Users\\48733\\AppData\\Local\\Temp\\session.hs, interpreted ) [Source file changed]\r\n",
       "C:\\Users\\48733\\AppData\\Local\\Temp\\session.hs:7:1: error: [GHC-58481]\r\n",
       "    parse error on input `import'\r\n",
       "  |\n",
       "7 | import Graphics.Rendering.Chart.Easy\r",
       "\r\n",
       "  | ^^^^^^\r\n",
       "\r\n",
       "Failed, no modules to be reloaded.\r\n"
      ]
     },
     "execution_count": 1,
     "metadata": {},
     "output_type": "execute_result"
    }
   ],
   "source": [
    "{-# LANGUAGE OverloadedStrings #-}\n",
    "\n",
    "import Graphics.Rendering.Chart.Easy\n",
    "import Graphics.Rendering.Chart.Backend.Diagrams\n",
    "\n",
    "import qualified Data.Colour.Names as C\n",
    "import Data.List (foldl')\n",
    "\n",
    "-- Output as SVG (Jupyter can render inline if the kernel sends display_data with MIME \"image/svg+xml\")"
   ]
  },
  {
   "cell_type": "code",
   "execution_count": null,
   "id": "bc4dedb9-bb16-4d10-a214-cc0990022cae",
   "metadata": {},
   "outputs": [
    {
     "data": {
      "text/plain": [
       "\r\n",
       "<interactive>:23:1: error: [GHC-88464]\r\n",
       "    Variable not in scope:\r\n",
       "      squareWaveFourier :: Int -> [Double] -> [Double]\r\n"
      ]
     },
     "execution_count": 5,
     "metadata": {},
     "output_type": "execute_result"
    }
   ],
   "source": [
    "squareWaveFourier :: Int -> [Double] -> [Double]\n",
    "squareWaveFourier n xs =\n",
    "    [ (4/pi) * sum [ sin ((2*k+1)*x) / fromIntegral (2*k+1) | k <- [0..n-1] ]\n",
    "    | x <- xs\n",
    "    ]\n",
    "\n",
    "xs :: [Double]\n",
    "xs = [0,0.05..(2*pi)]"
   ]
  },
  {
   "cell_type": "code",
   "execution_count": null,
   "id": "4e1ae416-4dac-4d11-9c3c-ade6702b2782",
   "metadata": {},
   "outputs": [],
   "source": [
    "plotFourier :: Int -> FilePath -> IO ()\n",
    "plotFourier n fp = toFile def fp $ do\n",
    "    layout_title .= (\"Square Wave Approximation with n=\" ++ show n)\n",
    "    setColors [opaque C.blue]\n",
    "    plot (line \"Fourier Series\" [ zip xs (squareWaveFourier n xs) ])\n",
    "\n",
    "-- Generate SVG\n",
    "plotFourier 5 \"fourier.svg\"\n"
   ]
  }
 ],
 "metadata": {
  "kernelspec": {
   "display_name": "Haskell (GHCi)",
   "language": "haskell",
   "name": "haskell"
  },
  "language_info": {
   "name": ""
  }
 },
 "nbformat": 4,
 "nbformat_minor": 5
}
