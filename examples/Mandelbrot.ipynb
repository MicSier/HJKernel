{
 "cells": [
  {
   "cell_type": "code",
   "execution_count": null,
   "id": "013ebd3f-6774-40a0-888e-5ddd411f687f",
   "metadata": {
    "scrolled": true
   },
   "outputs": [
    {
     "data": {
      "text/plain": [
       " [1 of 2] Compiling Main             ( C:\\Users\\48733\\AppData\\Local\\Temp\\session.hs, interpreted ) [Source file changed]\r\n",
       "Ok, one module reloaded.\r\n"
      ]
     },
     "execution_count": 1,
     "metadata": {},
     "output_type": "execute_result"
    }
   ],
   "source": [
    "mandelbrot :: Int -> Int -> Int -> [String]\n",
    "mandelbrot width height maxIter =\n",
    "  [ [ if inSet x y then '#' else ' '\n",
    "    | x <- coords width  ]\n",
    "  | y <- coords height ]\n",
    "  where\n",
    "    coords n = [ (fromIntegral i / fromIntegral n) * 3.5 - 2.5 | i <- [0..n-1] ]\n",
    "    inSet cx cy = go 0 0 0\n",
    "      where\n",
    "        go zx zy iter\n",
    "          | zx*zx + zy*zy > 4    = False\n",
    "          | iter >= maxIter      = True\n",
    "          | otherwise            = go zx' zy' (iter+1)\n",
    "          where\n",
    "            zx' = zx*zx - zy*zy + cx\n",
    "            zy' = 2*zx*zy + cy"
   ]
  },
  {
   "cell_type": "code",
   "execution_count": null,
   "id": "20717f44-1aa5-449b-88d0-c0717b39a19a",
   "metadata": {},
   "outputs": [
    {
     "data": {
      "text/plain": [
       "                                                                                \r\n",
       "                                                                                \r\n",
       "                                                                                \r\n",
       "                                                                                \r\n",
       "                                                                                \r\n",
       "                                                                                \r\n",
       "                                                                                \r\n",
       "                                                                                \r\n",
       "                                                                                \r\n",
       "                                                                                \r\n",
       "                                                                                \r\n",
       "                                                                                \r\n",
       "                                                    #####                       \r\n",
       "                                             ##  ############                   \r\n",
       "                                             ####################               \r\n",
       "                                          ########################              \r\n",
       "                              #########  #########################              \r\n",
       "                          ######################################                \r\n",
       "                              ########## #########################              \r\n",
       "                               #  #      #########################              \r\n",
       "                                           ######################               \r\n",
       "                                             ## ############## ##               \r\n",
       "                                                     ####                       \r\n",
       "                                                       #                        \r\n"
      ]
     },
     "execution_count": 2,
     "metadata": {},
     "output_type": "execute_result"
    }
   ],
   "source": [
    "mapM_ putStrLn (mandelbrot 80 24 100)"
   ]
  },
  {
   "cell_type": "code",
   "execution_count": null,
   "id": "74e19be8-dc8d-4a31-b4e7-5c94a576d1d4",
   "metadata": {},
   "outputs": [],
   "source": []
  }
 ],
 "metadata": {
  "kernelspec": {
   "display_name": "Haskell (GHCi)",
   "language": "haskell",
   "name": "haskell"
  },
  "language_info": {
   "name": ""
  }
 },
 "nbformat": 4,
 "nbformat_minor": 5
}
