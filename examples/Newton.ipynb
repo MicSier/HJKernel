{
 "cells": [
  {
   "cell_type": "code",
   "execution_count": null,
   "id": "324e829e-480c-455f-ba8c-04e1eed67e8d",
   "metadata": {},
   "outputs": [
    {
     "data": {
      "text/plain": [
       "[1 of 2] Compiling Main             ( C:\\Users\\48733\\AppData\\Local\\Temp\\session.hs, interpreted ) [Source file changed]\r\n",
       "C:\\Users\\48733\\AppData\\Local\\Temp\\session.hs:13:1: error: [GHC-29916]\r\n",
       "    Multiple declarations of `newton'\r\n",
       "    Declared at: C:\\Users\\48733\\AppData\\Local\\Temp\\session.hs:7:1\r\n",
       "                 C:\\Users\\48733\\AppData\\Local\\Temp\\session.hs:13:1\r\n",
       "   |\n",
       "13 | newton f f' x0 n = take (n+1) $ iterate step x0\r",
       "\r\n",
       "   | ^^^^^^\r\n",
       "\r\n",
       "Failed, no modules to be reloaded.\r\n"
      ]
     },
     "execution_count": 2,
     "metadata": {},
     "output_type": "execute_result"
    }
   ],
   "source": [
    "-- Newton's method for finding roots\n",
    "newton :: (Double -> Double) -> (Double -> Double) -> Double -> Int -> [Double]\n",
    "newton f f' x0 n = take (n+1) $ iterate step x0\n",
    "  where\n",
    "    step :: Double -> Double\n",
    "    step x = x - f x / f' x"
   ]
  },
  {
   "cell_type": "code",
   "execution_count": null,
   "id": "639a4f67-415d-47bd-a8fa-066fcde7aaeb",
   "metadata": {},
   "outputs": [
    {
     "data": {
      "text/plain": [
       "[1 of 2] Compiling Main             ( C:\\Users\\48733\\AppData\\Local\\Temp\\session.hs, interpreted ) [Source file changed]\r\n",
       "Ok, one module reloaded.\r\n"
      ]
     },
     "execution_count": 4,
     "metadata": {},
     "output_type": "execute_result"
    }
   ],
   "source": [
    "-- Pretty-print the iteration steps\n",
    "showSteps :: Show a => [a] -> IO ()\n",
    "showSteps xs = mapM_ print (zip [0..] xs)"
   ]
  },
  {
   "cell_type": "code",
   "execution_count": null,
   "id": "687d8b72-d659-4fc5-9f53-6f052330ffa9",
   "metadata": {},
   "outputs": [
    {
     "data": {
      "text/plain": [
       "[1 of 2] Compiling Main             ( C:\\Users\\48733\\AppData\\Local\\Temp\\session.hs, interpreted ) [Source file changed]\r\n",
       "Ok, one module reloaded.\r\n"
      ]
     },
     "execution_count": 7,
     "metadata": {},
     "output_type": "execute_result"
    }
   ],
   "source": [
    "-- Example: Solve x^3 - 2 = 0\n",
    "f  x = x**3 - 2\n",
    "f' x = 3*x**2"
   ]
  },
  {
   "cell_type": "code",
   "execution_count": null,
   "id": "99e18ae3-2d16-426e-8809-3c6e96a29f66",
   "metadata": {},
   "outputs": [
    {
     "data": {
      "text/plain": []
     },
     "execution_count": 9,
     "metadata": {},
     "output_type": "execute_result"
    }
   ],
   "source": [
    "showSteps (newton f f' 1 8)"
   ]
  },
  {
   "cell_type": "code",
   "execution_count": null,
   "id": "4b5625cc-8241-42fe-96e0-bacbc7baf083",
   "metadata": {},
   "outputs": [
    {
     "data": {
      "text/plain": [
       " [1 of 2] Compiling Main             ( C:\\Users\\48733\\AppData\\Local\\Temp\\session.hs, interpreted ) [Source file changed]\r\n",
       "Ok, one module reloaded.\r\n"
      ]
     },
     "execution_count": 5,
     "metadata": {},
     "output_type": "execute_result"
    }
   ],
   "source": [
    "asciiPlot :: [Double] -> IO ()\n",
    "asciiPlot xs = do\n",
    "    let minX = minimum xs\n",
    "        maxX = maximum xs\n",
    "        scale v = round ((v - minX) / (maxX - minX) * 50)\n",
    "    mapM_ (\\x -> putStrLn (replicate (scale x) ' ' ++ \"*\")) xs"
   ]
  },
  {
   "cell_type": "code",
   "execution_count": null,
   "id": "474de7bf-44ea-44b0-bb2e-25f9ee780fb0",
   "metadata": {},
   "outputs": [
    {
     "data": {
      "text/plain": [
       "*\r\n",
       "                                                  *\r\n",
       "                                        *\r\n",
       "                                       *\r\n",
       "                                       *\r\n",
       "                                       *\r\n",
       "                                       *\r\n",
       "                                       *\r\n",
       "                                       *\r\n",
       "                                       *\r\n",
       "                                       *\r\n"
      ]
     },
     "execution_count": 6,
     "metadata": {},
     "output_type": "execute_result"
    }
   ],
   "source": [
    "asciiPlot (newton f f' 1 10)"
   ]
  },
  {
   "cell_type": "code",
   "execution_count": null,
   "id": "d7a8e668-e2bf-4423-9c9c-abac41913e49",
   "metadata": {},
   "outputs": [],
   "source": []
  }
 ],
 "metadata": {
  "kernelspec": {
   "display_name": "Haskell (GHCi)",
   "language": "haskell",
   "name": "haskell"
  },
  "language_info": {
   "name": ""
  }
 },
 "nbformat": 4,
 "nbformat_minor": 5
}
